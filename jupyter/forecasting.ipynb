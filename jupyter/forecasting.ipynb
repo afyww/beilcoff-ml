{
 "cells": [
  {
   "cell_type": "code",
   "execution_count": 1,
   "metadata": {},
   "outputs": [],
   "source": [
    "import pandas as pd\n",
    "from statsmodels.tsa.statespace.sarimax import SARIMAX\n",
    "import matplotlib.pyplot as plt\n",
    "import matplotlib.dates as mdates\n"
   ]
  },
  {
   "cell_type": "code",
   "execution_count": 2,
   "metadata": {},
   "outputs": [],
   "source": [
    "# Baca data dari file Excel\n",
    "excel_file_path = '../orders.xlsx'  # Ganti dengan path file Excel Anda\n",
    "data = pd.read_excel(excel_file_path, parse_dates=['Pada Tanggal'])\n"
   ]
  },
  {
   "cell_type": "code",
   "execution_count": 3,
   "metadata": {},
   "outputs": [
    {
     "data": {
      "text/html": [
       "<div>\n",
       "<style scoped>\n",
       "    .dataframe tbody tr th:only-of-type {\n",
       "        vertical-align: middle;\n",
       "    }\n",
       "\n",
       "    .dataframe tbody tr th {\n",
       "        vertical-align: top;\n",
       "    }\n",
       "\n",
       "    .dataframe thead th {\n",
       "        text-align: right;\n",
       "    }\n",
       "</style>\n",
       "<table border=\"1\" class=\"dataframe\">\n",
       "  <thead>\n",
       "    <tr style=\"text-align: right;\">\n",
       "      <th></th>\n",
       "      <th>No</th>\n",
       "      <th>Pada Tanggal</th>\n",
       "      <th>Nama</th>\n",
       "      <th>Menu</th>\n",
       "      <th>Quantity</th>\n",
       "      <th>Total Amount</th>\n",
       "    </tr>\n",
       "  </thead>\n",
       "  <tbody>\n",
       "    <tr>\n",
       "      <th>0</th>\n",
       "      <td>1</td>\n",
       "      <td>2024-02-19 03:38:04</td>\n",
       "      <td>afy</td>\n",
       "      <td>Regal, Rum</td>\n",
       "      <td>2</td>\n",
       "      <td>50</td>\n",
       "    </tr>\n",
       "    <tr>\n",
       "      <th>1</th>\n",
       "      <td>2</td>\n",
       "      <td>2024-02-20 03:14:04</td>\n",
       "      <td>afy</td>\n",
       "      <td>Regal, Rum</td>\n",
       "      <td>3</td>\n",
       "      <td>70</td>\n",
       "    </tr>\n",
       "    <tr>\n",
       "      <th>2</th>\n",
       "      <td>3</td>\n",
       "      <td>2024-02-20 08:53:19</td>\n",
       "      <td>afy</td>\n",
       "      <td>Regal, Rum, Regal</td>\n",
       "      <td>3</td>\n",
       "      <td>70</td>\n",
       "    </tr>\n",
       "    <tr>\n",
       "      <th>3</th>\n",
       "      <td>4</td>\n",
       "      <td>2024-02-20 12:07:57</td>\n",
       "      <td>blek</td>\n",
       "      <td>Regal</td>\n",
       "      <td>1</td>\n",
       "      <td>20</td>\n",
       "    </tr>\n",
       "    <tr>\n",
       "      <th>4</th>\n",
       "      <td>5</td>\n",
       "      <td>2024-02-20 12:08:47</td>\n",
       "      <td>blek</td>\n",
       "      <td>Rum, Regal</td>\n",
       "      <td>2</td>\n",
       "      <td>50</td>\n",
       "    </tr>\n",
       "  </tbody>\n",
       "</table>\n",
       "</div>"
      ],
      "text/plain": [
       "   No        Pada Tanggal  Nama               Menu  Quantity  Total Amount\n",
       "0   1 2024-02-19 03:38:04   afy         Regal, Rum         2            50\n",
       "1   2 2024-02-20 03:14:04   afy         Regal, Rum         3            70\n",
       "2   3 2024-02-20 08:53:19   afy  Regal, Rum, Regal         3            70\n",
       "3   4 2024-02-20 12:07:57  blek              Regal         1            20\n",
       "4   5 2024-02-20 12:08:47  blek         Rum, Regal         2            50"
      ]
     },
     "execution_count": 3,
     "metadata": {},
     "output_type": "execute_result"
    }
   ],
   "source": [
    "data.head()"
   ]
  },
  {
   "cell_type": "code",
   "execution_count": 4,
   "metadata": {},
   "outputs": [
    {
     "data": {
      "text/html": [
       "<div>\n",
       "<style scoped>\n",
       "    .dataframe tbody tr th:only-of-type {\n",
       "        vertical-align: middle;\n",
       "    }\n",
       "\n",
       "    .dataframe tbody tr th {\n",
       "        vertical-align: top;\n",
       "    }\n",
       "\n",
       "    .dataframe thead th {\n",
       "        text-align: right;\n",
       "    }\n",
       "</style>\n",
       "<table border=\"1\" class=\"dataframe\">\n",
       "  <thead>\n",
       "    <tr style=\"text-align: right;\">\n",
       "      <th></th>\n",
       "      <th>No</th>\n",
       "      <th>Pada Tanggal</th>\n",
       "      <th>Nama</th>\n",
       "      <th>Menu</th>\n",
       "      <th>Quantity</th>\n",
       "      <th>Total Amount</th>\n",
       "    </tr>\n",
       "  </thead>\n",
       "  <tbody>\n",
       "    <tr>\n",
       "      <th>11</th>\n",
       "      <td>12</td>\n",
       "      <td>2024-02-21 15:42:14</td>\n",
       "      <td>afy</td>\n",
       "      <td>Kopi Susu, Regal, Rum</td>\n",
       "      <td>3</td>\n",
       "      <td>70</td>\n",
       "    </tr>\n",
       "    <tr>\n",
       "      <th>12</th>\n",
       "      <td>13</td>\n",
       "      <td>2024-02-22 12:06:40</td>\n",
       "      <td>afy</td>\n",
       "      <td>Kopi Susu</td>\n",
       "      <td>1</td>\n",
       "      <td>20</td>\n",
       "    </tr>\n",
       "    <tr>\n",
       "      <th>13</th>\n",
       "      <td>14</td>\n",
       "      <td>2024-02-22 12:09:44</td>\n",
       "      <td>blek</td>\n",
       "      <td>Kopi Susu</td>\n",
       "      <td>1</td>\n",
       "      <td>20</td>\n",
       "    </tr>\n",
       "    <tr>\n",
       "      <th>14</th>\n",
       "      <td>15</td>\n",
       "      <td>2024-02-22 12:27:11</td>\n",
       "      <td>blek</td>\n",
       "      <td>Regal</td>\n",
       "      <td>1</td>\n",
       "      <td>20</td>\n",
       "    </tr>\n",
       "    <tr>\n",
       "      <th>15</th>\n",
       "      <td>16</td>\n",
       "      <td>2024-02-22 12:29:21</td>\n",
       "      <td>afy</td>\n",
       "      <td>Rum, Regal</td>\n",
       "      <td>6</td>\n",
       "      <td>130</td>\n",
       "    </tr>\n",
       "  </tbody>\n",
       "</table>\n",
       "</div>"
      ],
      "text/plain": [
       "    No        Pada Tanggal  Nama                   Menu  Quantity  \\\n",
       "11  12 2024-02-21 15:42:14   afy  Kopi Susu, Regal, Rum         3   \n",
       "12  13 2024-02-22 12:06:40   afy              Kopi Susu         1   \n",
       "13  14 2024-02-22 12:09:44  blek              Kopi Susu         1   \n",
       "14  15 2024-02-22 12:27:11  blek                  Regal         1   \n",
       "15  16 2024-02-22 12:29:21   afy             Rum, Regal         6   \n",
       "\n",
       "    Total Amount  \n",
       "11            70  \n",
       "12            20  \n",
       "13            20  \n",
       "14            20  \n",
       "15           130  "
      ]
     },
     "execution_count": 4,
     "metadata": {},
     "output_type": "execute_result"
    }
   ],
   "source": [
    "data.tail()"
   ]
  },
  {
   "cell_type": "code",
   "execution_count": 5,
   "metadata": {},
   "outputs": [],
   "source": [
    "# Praproses data\n",
    "data.set_index('Pada Tanggal', inplace=True)\n",
    "ts = data['Total Amount']"
   ]
  },
  {
   "cell_type": "code",
   "execution_count": 6,
   "metadata": {},
   "outputs": [
    {
     "data": {
      "text/html": [
       "<div>\n",
       "<style scoped>\n",
       "    .dataframe tbody tr th:only-of-type {\n",
       "        vertical-align: middle;\n",
       "    }\n",
       "\n",
       "    .dataframe tbody tr th {\n",
       "        vertical-align: top;\n",
       "    }\n",
       "\n",
       "    .dataframe thead th {\n",
       "        text-align: right;\n",
       "    }\n",
       "</style>\n",
       "<table border=\"1\" class=\"dataframe\">\n",
       "  <thead>\n",
       "    <tr style=\"text-align: right;\">\n",
       "      <th></th>\n",
       "      <th>No</th>\n",
       "      <th>Nama</th>\n",
       "      <th>Menu</th>\n",
       "      <th>Quantity</th>\n",
       "      <th>Total Amount</th>\n",
       "    </tr>\n",
       "    <tr>\n",
       "      <th>Pada Tanggal</th>\n",
       "      <th></th>\n",
       "      <th></th>\n",
       "      <th></th>\n",
       "      <th></th>\n",
       "      <th></th>\n",
       "    </tr>\n",
       "  </thead>\n",
       "  <tbody>\n",
       "    <tr>\n",
       "      <th>2024-02-19 03:38:04</th>\n",
       "      <td>1</td>\n",
       "      <td>afy</td>\n",
       "      <td>Regal, Rum</td>\n",
       "      <td>2</td>\n",
       "      <td>50</td>\n",
       "    </tr>\n",
       "    <tr>\n",
       "      <th>2024-02-20 03:14:04</th>\n",
       "      <td>2</td>\n",
       "      <td>afy</td>\n",
       "      <td>Regal, Rum</td>\n",
       "      <td>3</td>\n",
       "      <td>70</td>\n",
       "    </tr>\n",
       "    <tr>\n",
       "      <th>2024-02-20 08:53:19</th>\n",
       "      <td>3</td>\n",
       "      <td>afy</td>\n",
       "      <td>Regal, Rum, Regal</td>\n",
       "      <td>3</td>\n",
       "      <td>70</td>\n",
       "    </tr>\n",
       "    <tr>\n",
       "      <th>2024-02-20 12:07:57</th>\n",
       "      <td>4</td>\n",
       "      <td>blek</td>\n",
       "      <td>Regal</td>\n",
       "      <td>1</td>\n",
       "      <td>20</td>\n",
       "    </tr>\n",
       "    <tr>\n",
       "      <th>2024-02-20 12:08:47</th>\n",
       "      <td>5</td>\n",
       "      <td>blek</td>\n",
       "      <td>Rum, Regal</td>\n",
       "      <td>2</td>\n",
       "      <td>50</td>\n",
       "    </tr>\n",
       "  </tbody>\n",
       "</table>\n",
       "</div>"
      ],
      "text/plain": [
       "                     No  Nama               Menu  Quantity  Total Amount\n",
       "Pada Tanggal                                                            \n",
       "2024-02-19 03:38:04   1   afy         Regal, Rum         2            50\n",
       "2024-02-20 03:14:04   2   afy         Regal, Rum         3            70\n",
       "2024-02-20 08:53:19   3   afy  Regal, Rum, Regal         3            70\n",
       "2024-02-20 12:07:57   4  blek              Regal         1            20\n",
       "2024-02-20 12:08:47   5  blek         Rum, Regal         2            50"
      ]
     },
     "execution_count": 6,
     "metadata": {},
     "output_type": "execute_result"
    }
   ],
   "source": [
    "data.head()"
   ]
  },
  {
   "cell_type": "code",
   "execution_count": 7,
   "metadata": {},
   "outputs": [
    {
     "data": {
      "text/html": [
       "<div>\n",
       "<style scoped>\n",
       "    .dataframe tbody tr th:only-of-type {\n",
       "        vertical-align: middle;\n",
       "    }\n",
       "\n",
       "    .dataframe tbody tr th {\n",
       "        vertical-align: top;\n",
       "    }\n",
       "\n",
       "    .dataframe thead th {\n",
       "        text-align: right;\n",
       "    }\n",
       "</style>\n",
       "<table border=\"1\" class=\"dataframe\">\n",
       "  <thead>\n",
       "    <tr style=\"text-align: right;\">\n",
       "      <th></th>\n",
       "      <th>No</th>\n",
       "      <th>Quantity</th>\n",
       "      <th>Total Amount</th>\n",
       "    </tr>\n",
       "  </thead>\n",
       "  <tbody>\n",
       "    <tr>\n",
       "      <th>count</th>\n",
       "      <td>16.000000</td>\n",
       "      <td>16.000000</td>\n",
       "      <td>16.000000</td>\n",
       "    </tr>\n",
       "    <tr>\n",
       "      <th>mean</th>\n",
       "      <td>8.500000</td>\n",
       "      <td>1.937500</td>\n",
       "      <td>43.125000</td>\n",
       "    </tr>\n",
       "    <tr>\n",
       "      <th>std</th>\n",
       "      <td>4.760952</td>\n",
       "      <td>1.340087</td>\n",
       "      <td>30.706948</td>\n",
       "    </tr>\n",
       "    <tr>\n",
       "      <th>min</th>\n",
       "      <td>1.000000</td>\n",
       "      <td>1.000000</td>\n",
       "      <td>20.000000</td>\n",
       "    </tr>\n",
       "    <tr>\n",
       "      <th>25%</th>\n",
       "      <td>4.750000</td>\n",
       "      <td>1.000000</td>\n",
       "      <td>20.000000</td>\n",
       "    </tr>\n",
       "    <tr>\n",
       "      <th>50%</th>\n",
       "      <td>8.500000</td>\n",
       "      <td>1.500000</td>\n",
       "      <td>30.000000</td>\n",
       "    </tr>\n",
       "    <tr>\n",
       "      <th>75%</th>\n",
       "      <td>12.250000</td>\n",
       "      <td>2.250000</td>\n",
       "      <td>55.000000</td>\n",
       "    </tr>\n",
       "    <tr>\n",
       "      <th>max</th>\n",
       "      <td>16.000000</td>\n",
       "      <td>6.000000</td>\n",
       "      <td>130.000000</td>\n",
       "    </tr>\n",
       "  </tbody>\n",
       "</table>\n",
       "</div>"
      ],
      "text/plain": [
       "              No   Quantity  Total Amount\n",
       "count  16.000000  16.000000     16.000000\n",
       "mean    8.500000   1.937500     43.125000\n",
       "std     4.760952   1.340087     30.706948\n",
       "min     1.000000   1.000000     20.000000\n",
       "25%     4.750000   1.000000     20.000000\n",
       "50%     8.500000   1.500000     30.000000\n",
       "75%    12.250000   2.250000     55.000000\n",
       "max    16.000000   6.000000    130.000000"
      ]
     },
     "execution_count": 7,
     "metadata": {},
     "output_type": "execute_result"
    }
   ],
   "source": [
    "data.describe()"
   ]
  },
  {
   "cell_type": "code",
   "execution_count": 8,
   "metadata": {},
   "outputs": [
    {
     "data": {
      "text/plain": [
       "<Axes: xlabel='Pada Tanggal'>"
      ]
     },
     "execution_count": 8,
     "metadata": {},
     "output_type": "execute_result"
    },
    {
     "data": {
      "image/png": "[encoded data removed]",
      "text/plain": [
       "<Figure size 640x480 with 1 Axes>"
      ]
     },
     "metadata": {},
     "output_type": "display_data"
    }
   ],
   "source": [
    "data.plot()"
   ]
  },
  {
   "cell_type": "code",
   "execution_count": 9,
   "metadata": {},
   "outputs": [],
   "source": [
    "# Pilih parameter SARIMA yang sesuai\n",
    "order = (1, 1, 1)  # Sesuaikan parameter ini sesuai karakteristik data Anda\n",
    "seasonal_order = (1, 1, 1, 12)  # Sesuaikan parameter ini sesuai karakteristik data Anda\n"
   ]
  },
  {
   "cell_type": "code",
   "execution_count": 10,
   "metadata": {},
   "outputs": [
    {
     "name": "stderr",
     "output_type": "stream",
     "text": [
      "/Users/user/.local/share/virtualenvs/python-nlEX9Ns4/lib/python3.11/site-packages/statsmodels/tsa/base/tsa_model.py:473: ValueWarning: A date index has been provided, but it has no associated frequency information and so will be ignored when e.g. forecasting.\n",
      "  self._init_dates(dates, freq)\n",
      "/Users/user/.local/share/virtualenvs/python-nlEX9Ns4/lib/python3.11/site-packages/statsmodels/tsa/base/tsa_model.py:473: ValueWarning: A date index has been provided, but it has no associated frequency information and so will be ignored when e.g. forecasting.\n",
      "  self._init_dates(dates, freq)\n",
      "/Users/user/.local/share/virtualenvs/python-nlEX9Ns4/lib/python3.11/site-packages/statsmodels/tsa/statespace/sarimax.py:866: UserWarning: Too few observations to estimate starting parameters for ARMA and trend. All parameters except for variances will be set to zeros.\n",
      "  warn('Too few observations to estimate starting parameters%s.'\n",
      "/Users/user/.local/share/virtualenvs/python-nlEX9Ns4/lib/python3.11/site-packages/statsmodels/tsa/statespace/sarimax.py:866: UserWarning: Too few observations to estimate starting parameters for seasonal ARMA. All parameters except for variances will be set to zeros.\n",
      "  warn('Too few observations to estimate starting parameters%s.'\n",
      " This problem is unconstrained.\n"
     ]
    },
    {
     "name": "stdout",
     "output_type": "stream",
     "text": [
      "RUNNING THE L-BFGS-B CODE\n",
      "\n",
      "           * * *\n",
      "\n",
      "Machine precision = 2.220D-16\n",
      " N =            5     M =           10\n",
      "\n",
      "At X0         0 variables are exactly at the bounds\n",
      "\n",
      "At iterate    0    f=  1.13521D+00    |proj g|=  2.09864D-03\n",
      "\n",
      "At iterate    5    f=  1.11577D+00    |proj g|=  3.39358D-04\n",
      "\n",
      "At iterate   10    f=  1.11477D+00    |proj g|=  2.55802D-03\n",
      "\n",
      "At iterate   15    f=  1.11467D+00    |proj g|=  2.17038D-04\n",
      "\n",
      "At iterate   20    f=  1.11463D+00    |proj g|=  4.25331D-04\n",
      "\n",
      "At iterate   25    f=  1.11461D+00    |proj g|=  1.24860D-03\n",
      "\n",
      "At iterate   30    f=  1.11456D+00    |proj g|=  3.73870D-04\n",
      "\n",
      "At iterate   35    f=  1.11452D+00    |proj g|=  2.48758D-03\n",
      "\n",
      "At iterate   40    f=  1.11449D+00    |proj g|=  9.55555D-04\n",
      "\n",
      "At iterate   45    f=  1.11448D+00    |proj g|=  4.70617D-04\n",
      "\n",
      "At iterate   50    f=  1.11447D+00    |proj g|=  3.86920D-04\n",
      "\n",
      "           * * *\n",
      "\n",
      "Tit   = total number of iterations\n",
      "Tnf   = total number of function evaluations\n",
      "Tnint = total number of segments explored during Cauchy searches\n",
      "Skip  = number of BFGS updates skipped\n",
      "Nact  = number of active bounds at final generalized Cauchy point\n",
      "Projg = norm of the final projected gradient\n",
      "F     = final function value\n",
      "\n",
      "           * * *\n",
      "\n",
      "   N    Tit     Tnf  Tnint  Skip  Nact     Projg        F\n",
      "    5     50     68      1     0     0   3.869D-04   1.114D+00\n",
      "  F =   1.1144733312274091     \n",
      "\n",
      "STOP: TOTAL NO. of ITERATIONS REACHED LIMIT                 \n"
     ]
    },
    {
     "name": "stderr",
     "output_type": "stream",
     "text": [
      "/Users/user/.local/share/virtualenvs/python-nlEX9Ns4/lib/python3.11/site-packages/statsmodels/base/model.py:607: ConvergenceWarning: Maximum Likelihood optimization failed to converge. Check mle_retvals\n",
      "  warnings.warn(\"Maximum Likelihood optimization failed to \"\n"
     ]
    }
   ],
   "source": [
    "# Latih model SARIMA\n",
    "model = SARIMAX(ts, order=order, seasonal_order=seasonal_order)\n",
    "result = model.fit()"
   ]
  },
  {
   "cell_type": "code",
   "execution_count": 11,
   "metadata": {},
   "outputs": [],
   "source": [
    "# Lakukan prediksi satu bulan ke depan\n",
    "forecast_steps = 15  # Sesuaikan dengan jumlah langkah prediksi yang sesuai dengan satu bulan\n",
    "forecast_index = pd.date_range(ts.index[-1], periods=forecast_steps + 1, freq='D')[1:]\n",
    "forecast = result.get_forecast(steps=forecast_steps, index=forecast_index)\n",
    "forecast_values = forecast.predicted_mean"
   ]
  },
  {
   "cell_type": "code",
   "execution_count": 12,
   "metadata": {},
   "outputs": [],
   "source": [
    "pd.plotting.register_matplotlib_converters()\n"
   ]
  },
  {
   "cell_type": "code",
   "execution_count": 13,
   "metadata": {},
   "outputs": [
    {
     "data": {
      "text/plain": [
       "<matplotlib.legend.Legend at 0x1297d3890>"
      ]
     },
     "execution_count": 13,
     "metadata": {},
     "output_type": "execute_result"
    },
    {
     "data": {
      "image/png": "[encoded data removed]",
      "text/plain": [
       "<Figure size 1000x600 with 1 Axes>"
      ]
     },
     "metadata": {},
     "output_type": "display_data"
    }
   ],
   "source": [
    "# Visualisasi hasil prediksi\n",
    "plt.figure(figsize=(10, 6))\n",
    "plt.plot(ts.index, ts.values, label='Observasi')\n",
    "plt.plot(forecast_values.index, forecast_values.values, color='red', label='Prediksi')\n",
    "plt.title('Prediksi Time Series dengan SARIMA - Satu Bulan ke Depan')\n",
    "plt.xlabel('Tanggal')\n",
    "plt.ylabel('Total Amount')\n",
    "plt.legend()"
   ]
  },
  {
   "cell_type": "code",
   "execution_count": 14,
   "metadata": {},
   "outputs": [],
   "source": [
    "plt.show()\n"
   ]
  }
 ],
 "metadata": {
  "kernelspec": {
   "display_name": "python-nlEX9Ns4",
   "language": "python",
   "name": "python3"
  },
  "language_info": {
   "codemirror_mode": {
    "name": "ipython",
    "version": 3
   },
   "file_extension": ".py",
   "mimetype": "text/x-python",
   "name": "python",
   "nbconvert_exporter": "python",
   "pygments_lexer": "ipython3",
   "version": "3.11.7"
  }
 },
 "nbformat": 4,
 "nbformat_minor": 2
}
